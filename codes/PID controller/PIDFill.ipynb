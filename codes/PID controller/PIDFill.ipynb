{
  "nbformat": 4,
  "nbformat_minor": 0,
  "metadata": {
    "colab": {
      "name": "PIDFill",
      "provenance": [],
      "collapsed_sections": []
    },
    "kernelspec": {
      "name": "python3",
      "display_name": "Python 3"
    }
  },
  "cells": [
    {
      "cell_type": "markdown",
      "metadata": {
        "id": "0s7VAVNSvfK7"
      },
      "source": [
        "##  Simplest form of PID:\n",
        "\n",
        "   ***How long since we last calculated***\n",
        "\n",
        "\n",
        "   unsigned long now = millis();\n",
        "\n",
        "   double timeChange = (double)(now - lastTime);\n",
        "  \n",
        "   ***Compute all the working error variables***\n",
        "\n",
        "   double error = Setpoint - Input;\n",
        "\n",
        "   errSum += (error * timeChange);\n",
        "\n",
        "   double dErr = (error - lastErr) / timeChange;\n",
        "  \n",
        "   ***Compute PID Output***\n",
        "\n",
        "   Output = kp * error + ki * errSum + kd * dErr;\n",
        "  \n",
        "   ***Remember some variables for next time***\n",
        "\n",
        "   lastErr = error;\n",
        "\n",
        "   lastTime = now;"
      ]
    },
    {
      "cell_type": "code",
      "metadata": {
        "id": "wl3Nk7fYgD-P"
      },
      "source": [
        "import time\n",
        "\n",
        "class PID:\n",
        "    \"\"\"PID Controller\n",
        "    \"\"\"\n",
        "\n",
        "    def __init__(self, P, I, D, current_time=None):\n",
        "\n",
        "        self.Kp = P\n",
        "        self.Ki = I\n",
        "        self.Kd = D\n",
        "\n",
        "        self.sample_time = 0.00\n",
        "        self.current_time = current_time if current_time is not None else time.time()\n",
        "        self.last_time = self.current_time\n",
        "\n",
        "        self.clear()\n",
        "\n",
        "    def clear(self):\n",
        "        \"\"\"Clears PID computations and coefficients\"\"\"\n",
        "        self.SetPoint = 0.0\n",
        "\n",
        "        self.PTerm = 0.0\n",
        "        self.ITerm = 0.0\n",
        "        self.DTerm = 0.0\n",
        "        self.last_error = 0.0\n",
        "\n",
        "        # Windup Guard\n",
        "        self.int_error = 0.0\n",
        "        self.windup_guard = 20.0\n",
        "\n",
        "        self.output = 0.0\n",
        "\n",
        "    def update(self, feedback_value, current_time=None):\n",
        "        \"\"\"Calculates PID value for given reference feedback\n",
        "        .. math::\n",
        "            u(t) = K_p e(t) + K_i \\int_{0}^{t} e(t)dt + K_d {de}/{dt}\n",
        "        .. figure:: images/pid_1.png\n",
        "           :align:   center\n",
        "           Test PID with Kp=1.2, Ki=1, Kd=0.001 (test_pid.py)\n",
        "        \"\"\"\n",
        "        error = self.SetPoint - feedback_value\n",
        "\n",
        "        self.current_time = current_time if current_time is not None else time.time()\n",
        "        delta_time = #your code here\n",
        "        delta_error =#your code here\n",
        "\n",
        "#new computation done after each sample_time\n",
        "\n",
        "        if (delta_time >= self.sample_time):\n",
        "            self.PTerm = #your code here\n",
        "            self.ITerm =#your code here\n",
        "\n",
        "            if (self.ITerm < -self.windup_guard):\n",
        "                self.ITerm = -self.windup_guard\n",
        "            elif (self.ITerm > self.windup_guard):\n",
        "                self.ITerm = self.windup_guard\n",
        "\n",
        "            self.DTerm = 0.0\n",
        "            if delta_time > 0:\n",
        "                self.DTerm = #your code here\n",
        "\n",
        "            # Remember last time and last error for next calculation\n",
        "            self.last_time = self.current_time\n",
        "            self.last_error = error\n",
        "\n",
        "#compiling the pid expression\n",
        "\n",
        "            self.output = #your code here\n",
        "\n",
        "    def setKp(self, proportional_gain):\n",
        "        \"\"\"Determines how aggressively the PID reacts to the current error with setting Proportional Gain\"\"\"\n",
        "        self.Kp = proportional_gain\n",
        "\n",
        "    def setKi(self, integral_gain):\n",
        "        \"\"\"Determines how aggressively the PID reacts to the current error with setting Integral Gain\"\"\"\n",
        "        self.Ki = integral_gain\n",
        "\n",
        "    def setKd(self, derivative_gain):\n",
        "        \"\"\"Determines how aggressively the PID reacts to the current error with setting Derivative Gain\"\"\"\n",
        "        self.Kd = derivative_gain\n",
        "\n",
        "    def setWindup(self, windup):\n",
        "        \"\"\"Integral windup, also known as integrator windup or reset windup,\n",
        "        refers to the situation in a PID feedback controller where\n",
        "        a large change in setpoint occurs (say a positive change)\n",
        "        and the integral terms accumulates a significant error\n",
        "        during the rise (windup), thus overshooting and continuing\n",
        "        to increase as this accumulated error is unwound\n",
        "        (offset by errors in the other direction).\n",
        "        The specific problem is the excess overshooting.\n",
        "        \"\"\"\n",
        "        self.windup_guard = windup\n",
        "\n",
        "    def setSampleTime(self, sample_time):\n",
        "        \"\"\"PID that should be updated at a regular interval.\n",
        "        Based on a pre-determined sampe time, the PID decides if it should compute or return immediately.\n",
        "        \"\"\"\n",
        "        self.sample_time = sample_time"
      ],
      "execution_count": null,
      "outputs": []
    },
    {
      "cell_type": "markdown",
      "metadata": {
        "id": "58kwvSKu87-H"
      },
      "source": [
        "The class above defined the basic setup of the pid controller. We will now be creating objects of the class to utilize it."
      ]
    },
    {
      "cell_type": "code",
      "metadata": {
        "id": "jXSYjNp2k7ZJ"
      },
      "source": [
        "\n",
        "import time\n",
        "import matplotlib.pyplot as plt\n",
        "import numpy as np\n",
        "#from scipy.interpolate import spline\n",
        "from scipy.interpolate import BSpline, make_interp_spline #  Switched to BSpline\n",
        "\n",
        "def test_pid(P,  I, D, L):\n",
        "    \"\"\"Self-test PID class\n",
        "    .. note::\n",
        "        ...\n",
        "        for i in range(1, END):\n",
        "            pid.update(feedback)\n",
        "            output = pid.output\n",
        "            if pid.SetPoint > 0:\n",
        "                feedback += (output - (1/i))\n",
        "            if i>9:\n",
        "                pid.SetPoint = 1\n",
        "            time.sleep(0.02)\n",
        "        ---\n",
        "    \"\"\"\n",
        "    pid = PID(P, I, D)\n",
        "\n",
        "    pid.SetPoint=0.0 #target\n",
        "    pid.setSampleTime(0.01) #pid performed after every \"sampleTime\" interval\n",
        "\n",
        "    END = L\n",
        "    feedback = 0\n",
        "\n",
        "    feedback_list = []\n",
        "    time_list = []\n",
        "    setpoint_list = []\n",
        "\n",
        "    for i in range(1, END):\n",
        "        pid.update(feedback)\n",
        "        output = pid.output\n",
        "        if pid.SetPoint > 0:\n",
        "            feedback += (output - (1/i))\n",
        "        if i>9:\n",
        "            pid.SetPoint = 1\n",
        "        time.sleep(0.02)\n",
        "\n",
        "        feedback_list.append(feedback)\n",
        "        setpoint_list.append(pid.SetPoint)\n",
        "        time_list.append(i)\n",
        "\n",
        "    time_sm = np.array(time_list)\n",
        "    time_smooth = np.linspace(time_sm.min(), time_sm.max(), 300)\n",
        "\n",
        "    # feedback_smooth = spline(time_list, feedback_list, time_smooth)\n",
        "    # Using make_interp_spline to create BSpline\n",
        "    helper_x3 = make_interp_spline(time_list, feedback_list)\n",
        "    feedback_smooth = helper_x3(time_smooth)\n",
        "\n",
        "    plt.plot(time_smooth, feedback_smooth)\n",
        "    plt.plot(time_list, setpoint_list)\n",
        "    plt.xlim((0, L))\n",
        "    plt.ylim((min(feedback_list)-0.5, max(feedback_list)+0.5))\n",
        "    plt.xlabel('time (s)')\n",
        "    plt.ylabel('PID (PV)')\n",
        "    plt.title('TEST PID')\n",
        "\n",
        "    plt.ylim((1-0.5, 1+0.5))\n",
        "\n",
        "    plt.grid(True)\n",
        "    plt.show()\n",
        "\n"
      ],
      "execution_count": null,
      "outputs": []
    },
    {
      "cell_type": "markdown",
      "metadata": {
        "id": "kp5Cb1m3_aUJ"
      },
      "source": [
        "Try different vaues of P, I and D in the function below and observe its effect on convergence to the setpoint."
      ]
    },
    {
      "cell_type": "code",
      "metadata": {
        "colab": {
          "base_uri": "https://localhost:8080/",
          "height": 295
        },
        "id": "J5BtNz5_zQdp",
        "outputId": "96c1ca27-a254-4d1c-9956-2d7ebd3b033d"
      },
      "source": [
        "if __name__ == \"__main__\":\n",
        "    test_pid(1.2, 1, 0.001, L=50)"
      ],
      "execution_count": null,
      "outputs": [
        {
          "output_type": "display_data",
          "data": {
            "image/png": "[encoded data removed]",
            "text/plain": [
              "<Figure size 432x288 with 1 Axes>"
            ]
          },
          "metadata": {
            "tags": [],
            "needs_background": "light"
          }
        }
      ]
    }
  ]
}