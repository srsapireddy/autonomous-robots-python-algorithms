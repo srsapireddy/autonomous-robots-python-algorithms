{
 "cells": [
  {
   "cell_type": "markdown",
   "id": "expressed-boutique",
   "metadata": {},
   "source": [
    "<p><span style=\"font-family: 'Arial Black', Gadget, sans-serif;\"><strong><span style=\"font-size: 22px;\">KALMAN FILTER</span></strong></span></p>"
   ]
  },
  {
   "cell_type": "code",
   "execution_count": 36,
   "id": "comparable-installation",
   "metadata": {},
   "outputs": [
    {
     "name": "stdout",
     "output_type": "stream",
     "text": [
      "Sensor1_data : [103.53497449 104.46063516 101.68232624 106.04687985 106.30541412\n",
      " 100.02370297 107.23575689 104.59891035 105.49595704 101.89980219\n",
      " 102.03468776 103.92887548 107.77175224 107.31259395 103.80917641\n",
      " 105.19776689 104.14028363 105.59931303 105.22418171 101.53103364]\n",
      "Sensor2_data : [106.8752701  108.38312609 107.28373873 109.24700375 106.23473655\n",
      " 106.95288429 106.98121704 109.91175165 107.18244076 109.91033202\n",
      " 106.02023609 106.97008641 106.3505131  109.02741665 109.74777045\n",
      " 109.85624324 109.52644351 105.69030771 107.87383594 108.0596342 ]\n"
     ]
    }
   ],
   "source": [
    "import numpy as np\n",
    "import matplotlib.pyplot as plt\n",
    "import math\n",
    "\n",
    "sensor_data1 = 100*np.ones(20)+8*np.random.rand(20)\n",
    "sensor_data2 = 105*np.ones(20)+5*np.random.rand(20)\n",
    "\n",
    "print('Sensor1_data :' , sensor_data1)\n",
    "print('Sensor2_data :' , sensor_data2)"
   ]
  },
  {
   "cell_type": "markdown",
   "id": "italic-cross",
   "metadata": {},
   "source": [
    "Find the mean and variance of the sensor data.\n",
    "\n",
    "mean_sensor1\n",
    "\n",
    "mean_sensor2\n",
    "\n",
    "#### Variance\n",
    "Variance is the spread of the data. The mean does'nt tell much **about** the data. Therefore the variance tells us about the **story** about the data meaning the spread of the data.\n",
    "\n",
    "$$\\mathit{VAR}(X) = \\frac{1}{n}\\sum_{i=1}^n (x_i - \\mu)^2$$"
   ]
  },
  {
   "cell_type": "markdown",
   "id": "nuclear-audit",
   "metadata": {},
   "source": [
    "fill in the below find_meanvariance function "
   ]
  },
  {
   "cell_type": "code",
   "execution_count": 37,
   "id": "saving-saskatchewan",
   "metadata": {},
   "outputs": [],
   "source": [
    "def find_meanvariance(sensor_data):\n",
    "    # insert code here\n",
    "\n",
    "    \n",
    "    return [mean,variance]"
   ]
  },
  {
   "cell_type": "code",
   "execution_count": 41,
   "id": "current-saying",
   "metadata": {},
   "outputs": [
    {
     "name": "stdout",
     "output_type": "stream",
     "text": [
      "mean1 =  104.39170120181961\n",
      "variance1 =  4.311721679482752\n",
      "mean2 =  107.90424941360732\n",
      "variance2 =  1.9730340328249398\n"
     ]
    }
   ],
   "source": [
    "m1,v1 = find_meanvariance(sensor_data1)\n",
    "m2,v2 = find_meanvariance(sensor_data2)\n",
    "\n",
    "print('mean1 = ', m1)\n",
    "print('variance1 = ', v1)\n",
    "print('mean2 = ', m2)\n",
    "print('variance2 = ', v2)"
   ]
  },
  {
   "cell_type": "markdown",
   "id": "excess-stephen",
   "metadata": {},
   "source": [
    "#### Gaussian Distribution\n",
    "A Gaussian is a *continuous probability distribution* that is completely described with two parameters, the mean ($\\mu$) and the variance ($\\sigma^2$). It is defined as:\n",
    "\n",
    "$$ \n",
    "f(x, \\mu, \\sigma) = \\frac{1}{\\sigma\\sqrt{2\\pi}} \\exp\\big [{-\\frac{(x-\\mu)^2}{2\\sigma^2} }\\big ]\n",
    "$$\n",
    "Range is $$[-\\inf,\\inf] $$"
   ]
  },
  {
   "cell_type": "code",
   "execution_count": 48,
   "id": "objective-surname",
   "metadata": {},
   "outputs": [],
   "source": [
    "def gaussian_dist(x,mean,variance):\n",
    "    # insert code here\n",
    "\n",
    "    \n",
    "    return y"
   ]
  },
  {
   "cell_type": "markdown",
   "id": "violent-counter",
   "metadata": {},
   "source": [
    "<p><span style=\"font-family: Arial, Helvetica, sans-serif;\">Plot both the gaussian distributions</span></p>"
   ]
  },
  {
   "cell_type": "code",
   "execution_count": 52,
   "id": "powerful-forth",
   "metadata": {},
   "outputs": [
    {
     "data": {
      "image/png": "[encoded data removed]",
      "text/plain": [
       "<Figure size 432x288 with 1 Axes>"
      ]
     },
     "metadata": {
      "needs_background": "light"
     },
     "output_type": "display_data"
    }
   ],
   "source": [
    "x1 = np.linspace(m1 - 5*v1, m1 + 5*v1, 100)\n",
    "x2 = np.linspace(m2 - 5*v2, m2 + 5*v2, 100)\n",
    "\n",
    "# insert code here\n",
    "\n",
    "    \n",
    "plt.plot(x1,y1,'g-',label='sensor1')\n",
    "plt.plot(x2,y2,label='sensor2')\n",
    "plt.legend(loc='upper left')\n",
    "    \n",
    "plt.show()"
   ]
  },
  {
   "cell_type": "markdown",
   "id": "floppy-failing",
   "metadata": {},
   "source": [
    "New mean is \n",
    "\n",
    "$$\\mu_\\mathtt{new} = \\frac{\\mu_1 \\sigma_2^2 + \\mu_2 \\sigma_1^2}{\\sigma_1^2+\\sigma_2^2}$$\n",
    "New variance is\n",
    "$$\\sigma_\\mathtt{new} = \\frac{\\sigma_1^2\\sigma_2^2}{\\sigma_1^2+\\sigma_2^2}$$"
   ]
  },
  {
   "cell_type": "code",
   "execution_count": 1,
   "id": "emotional-plaintiff",
   "metadata": {},
   "outputs": [],
   "source": [
    "def m_v_new(m1,m2,v1,v2):\n",
    "    #insert code here\n",
    "\n",
    "    \n",
    "    return [m_new,v_new]"
   ]
  },
  {
   "cell_type": "markdown",
   "id": "understood-minister",
   "metadata": {},
   "source": [
    "<p><span style=\"font-family: Arial, Helvetica, sans-serif;\">Plot the new gaussian distribution</span></p>"
   ]
  },
  {
   "cell_type": "code",
   "execution_count": 2,
   "id": "broke-third",
   "metadata": {},
   "outputs": [
    {
     "ename": "NameError",
     "evalue": "name 'm1' is not defined",
     "output_type": "error",
     "traceback": [
      "\u001b[0;31m---------------------------------------------------------------------------\u001b[0m",
      "\u001b[0;31mNameError\u001b[0m                                 Traceback (most recent call last)",
      "\u001b[0;32m<ipython-input-2-02dfe3b51bdf>\u001b[0m in \u001b[0;36m<module>\u001b[0;34m\u001b[0m\n\u001b[0;32m----> 1\u001b[0;31m \u001b[0mm_new\u001b[0m\u001b[0;34m,\u001b[0m\u001b[0mv_new\u001b[0m \u001b[0;34m=\u001b[0m \u001b[0mm_v_new\u001b[0m\u001b[0;34m(\u001b[0m\u001b[0mm1\u001b[0m\u001b[0;34m,\u001b[0m\u001b[0mm2\u001b[0m\u001b[0;34m,\u001b[0m\u001b[0mv1\u001b[0m\u001b[0;34m,\u001b[0m\u001b[0mv2\u001b[0m\u001b[0;34m)\u001b[0m\u001b[0;34m\u001b[0m\u001b[0;34m\u001b[0m\u001b[0m\n\u001b[0m\u001b[1;32m      2\u001b[0m \u001b[0;34m\u001b[0m\u001b[0m\n\u001b[1;32m      3\u001b[0m \u001b[0mx_new\u001b[0m \u001b[0;34m=\u001b[0m \u001b[0mnp\u001b[0m\u001b[0;34m.\u001b[0m\u001b[0mlinspace\u001b[0m\u001b[0;34m(\u001b[0m\u001b[0mm_new\u001b[0m \u001b[0;34m-\u001b[0m \u001b[0;36m5\u001b[0m\u001b[0;34m*\u001b[0m\u001b[0mv_new\u001b[0m\u001b[0;34m,\u001b[0m \u001b[0mm_new\u001b[0m \u001b[0;34m+\u001b[0m \u001b[0;36m5\u001b[0m\u001b[0;34m*\u001b[0m\u001b[0mv_new\u001b[0m\u001b[0;34m,\u001b[0m \u001b[0;36m100\u001b[0m\u001b[0;34m)\u001b[0m\u001b[0;34m\u001b[0m\u001b[0;34m\u001b[0m\u001b[0m\n\u001b[1;32m      4\u001b[0m \u001b[0my_new\u001b[0m \u001b[0;34m=\u001b[0m \u001b[0mgaussian_dist\u001b[0m\u001b[0;34m(\u001b[0m\u001b[0mx_new\u001b[0m\u001b[0;34m,\u001b[0m\u001b[0mm_new\u001b[0m\u001b[0;34m,\u001b[0m\u001b[0mv_new\u001b[0m\u001b[0;34m)\u001b[0m\u001b[0;34m\u001b[0m\u001b[0;34m\u001b[0m\u001b[0m\n\u001b[1;32m      5\u001b[0m \u001b[0;34m\u001b[0m\u001b[0m\n",
      "\u001b[0;31mNameError\u001b[0m: name 'm1' is not defined"
     ]
    }
   ],
   "source": [
    "m_new,v_new = m_v_new(m1,m2,v1,v2)\n",
    "\n",
    "x_new = np.linspace(m_new - 5*v_new, m_new + 5*v_new, 100)\n",
    "y_new = gaussian_dist(x_new,m_new,v_new)\n",
    "\n",
    "plt.plot(x1,y1,'g-',label='sensor1')\n",
    "plt.plot(x2,y2,label='sensor2')\n",
    "plt.plot(x_new,y_new,label='final')\n",
    "plt.legend(loc='upper left')\n",
    "    \n",
    "plt.show()"
   ]
  },
  {
   "cell_type": "code",
   "execution_count": null,
   "id": "plastic-demonstration",
   "metadata": {},
   "outputs": [],
   "source": []
  },
  {
   "cell_type": "code",
   "execution_count": null,
   "id": "associate-investigator",
   "metadata": {},
   "outputs": [],
   "source": []
  }
 ],
 "metadata": {
  "kernelspec": {
   "display_name": "Python 3",
   "language": "python",
   "name": "python3"
  },
  "language_info": {
   "codemirror_mode": {
    "name": "ipython",
    "version": 3
   },
   "file_extension": ".py",
   "mimetype": "text/x-python",
   "name": "python",
   "nbconvert_exporter": "python",
   "pygments_lexer": "ipython3",
   "version": "3.6.9"
  }
 },
 "nbformat": 4,
 "nbformat_minor": 5
}
