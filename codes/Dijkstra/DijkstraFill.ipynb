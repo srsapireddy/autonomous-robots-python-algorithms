{
  "nbformat": 4,
  "nbformat_minor": 0,
  "metadata": {
    "colab": {
      "name": "DijkstraFill.ipynb",
      "provenance": [],
      "collapsed_sections": []
    },
    "kernelspec": {
      "name": "python3",
      "display_name": "Python 3"
    }
  },
  "cells": [
    {
      "cell_type": "markdown",
      "metadata": {
        "id": "-nijZUFVocXf"
      },
      "source": [
        "**Dijkstra's Algorithm**"
      ]
    },
    {
      "cell_type": "code",
      "metadata": {
        "id": "0JWvDTrkgp55"
      },
      "source": [
        "import matplotlib.pyplot as plt\n",
        "from matplotlib import colors\n",
        "import numpy as np"
      ],
      "execution_count": null,
      "outputs": []
    },
    {
      "cell_type": "markdown",
      "metadata": {
        "id": "yFEMflZb19I3"
      },
      "source": [
        "In the next cell, we **intitialise the map** of our environment. Obstacles are coloured **black** and the START and END nodes are coloured **grey**"
      ]
    },
    {
      "cell_type": "code",
      "metadata": {
        "colab": {
          "base_uri": "https://localhost:8080/",
          "height": 297
        },
        "id": "1kSAUZUEg7zJ",
        "outputId": "a3374b57-24f4-4f6a-ae83-4d633c4a3916"
      },
      "source": [
        "map_env = np.array([[0.5, 1.0, 1.0, 1.0, 0.0],\n",
        "                    [0.0, 0.0, 1.0, 0.0, 0.5],\n",
        "                    [0.0, 0.0, 0.0, 0.0, 0.0],\n",
        "                    [0.0, 0.0, 0.0, 0.0, 0.0],\n",
        "                    [0.0, 0.0, 1.0, 0.0, 0.0]])\n",
        "\n",
        "fig, ax = plt.subplots()\n",
        "im = ax.imshow(map_env,cmap='Greys')\n",
        "\n",
        "text = ax.text(4, 1, 'START',ha=\"center\", va=\"center\")\n",
        "text = ax.text(0, 0, 'GOAL',ha=\"center\", va=\"center\")\n",
        "\n",
        "fig.tight_layout()\n",
        "\n",
        "plt.show()"
      ],
      "execution_count": null,
      "outputs": [
        {
          "output_type": "display_data",
          "data": {
            "image/png": "[encoded data removed]",
            "text/plain": [
              "<Figure size 432x288 with 1 Axes>"
            ]
          },
          "metadata": {
            "tags": [],
            "needs_background": "light"
          }
        }
      ]
    },
    {
      "cell_type": "markdown",
      "metadata": {
        "id": "O_gz5lKn2S21"
      },
      "source": [
        "We now create 2 empty dictionaries which will be used to store\n",
        " \n",
        "1)the distances of each grid cell from the START node\n",
        "\n",
        "2)the cell that directly leads to this grid cell if one were to reach it taking the shortest possible path \n",
        "respectively"
      ]
    },
    {
      "cell_type": "code",
      "metadata": {
        "id": "wrFvVhDocTkq"
      },
      "source": [
        "distances={}\n",
        "prev={}"
      ],
      "execution_count": null,
      "outputs": []
    },
    {
      "cell_type": "markdown",
      "metadata": {
        "id": "0uiJpUGu2yWn"
      },
      "source": [
        "The distance of each grid cell from the START node is set to infinity initially while its \"previous node\" is set to None"
      ]
    },
    {
      "cell_type": "code",
      "metadata": {
        "id": "OPEcSIr_ci5b"
      },
      "source": [
        "#Set the previous node of each cell to None and the distances of each cell from start to infinity\n",
        "\n",
        "\n"
      ],
      "execution_count": null,
      "outputs": []
    },
    {
      "cell_type": "markdown",
      "metadata": {
        "id": "DWqeIlbF3Ct6"
      },
      "source": [
        "Setting the distance of the starting node from itself to 0"
      ]
    },
    {
      "cell_type": "code",
      "metadata": {
        "id": "6FBJb80ej_XU"
      },
      "source": [
        "#Set the distance of starting node from itself to 0\n",
        "\n"
      ],
      "execution_count": null,
      "outputs": []
    },
    {
      "cell_type": "markdown",
      "metadata": {
        "id": "DqjLc6F93INK"
      },
      "source": [
        "We now create two lists:\n",
        "\n",
        "1)**Open**: This is used to keep track of the nodes that are currently reachable but have not been explored\n",
        "\n",
        "2)**Closed**: This is used to keep track of nodes that have already been expored.\n",
        "\n",
        "***Example***:\n",
        "\n",
        "After our first iteration in the Dijkstra Algorithm, the \"START\" node wll be marked as \"Closed\", while the cells (3,1), (4,0), (4,2)and (3,2) will be marked \"open\" to exploration."
      ]
    },
    {
      "cell_type": "code",
      "metadata": {
        "id": "3jwvLLW9WBhr"
      },
      "source": [
        "open=[] #set of nodes to be evaluated\n",
        "closed=[] #set of nodes that have been evaluated"
      ],
      "execution_count": null,
      "outputs": []
    },
    {
      "cell_type": "code",
      "metadata": {
        "id": "0HaRNrclc8jx"
      },
      "source": [
        "open.append([4,1]) #add starting node to 'open' list"
      ],
      "execution_count": null,
      "outputs": []
    },
    {
      "cell_type": "code",
      "metadata": {
        "colab": {
          "base_uri": "https://localhost:8080/"
        },
        "id": "sSyNBlelAy94",
        "outputId": "4cca7323-ac05-41ab-c15d-289c479344e2"
      },
      "source": [
        "# get position of obstacles\n",
        "# code here\n",
        "#Hint:Use np.where()\n",
        "#np.where(condition) will return all the cells for which the condition is true in the form [[all column nos],[corresponding row nos ]]\n",
        "\n",
        "\n"
      ],
      "execution_count": null,
      "outputs": [
        {
          "output_type": "stream",
          "text": [
            "[(1, 0), (2, 0), (3, 0), (2, 1), (2, 4)]\n"
          ],
          "name": "stdout"
        }
      ]
    },
    {
      "cell_type": "code",
      "metadata": {
        "id": "mZAKe_phBRZs"
      },
      "source": [
        "def plot_steps(current_cell,f_min):\n",
        "    print('plotting')\n",
        "    fig, ax = plt.subplots()\n",
        "    im = ax.imshow(map_env,cmap='Greys')\n",
        "    # code here\n",
        "    text = ax.text(current_cell[0],current_cell[1],round(f_min,2),ha=\"center\", va=\"center\")\n",
        "    \n",
        "    fig.tight_layout()\n",
        "    plt.show()"
      ],
      "execution_count": null,
      "outputs": []
    },
    {
      "cell_type": "code",
      "metadata": {
        "id": "h3C5uqetjYpv"
      },
      "source": [
        "next_goal=False\n",
        "current_cell=[4,1]"
      ],
      "execution_count": null,
      "outputs": []
    },
    {
      "cell_type": "code",
      "metadata": {
        "colab": {
          "base_uri": "https://localhost:8080/"
        },
        "id": "P7zX1hDZkQ7P",
        "outputId": "ac801602-efae-455a-ac17-82948efdba10"
      },
      "source": [
        "current_cell"
      ],
      "execution_count": null,
      "outputs": [
        {
          "output_type": "execute_result",
          "data": {
            "text/plain": [
              "[4, 1]"
            ]
          },
          "metadata": {
            "tags": []
          },
          "execution_count": 11
        }
      ]
    },
    {
      "cell_type": "code",
      "metadata": {
        "colab": {
          "base_uri": "https://localhost:8080/"
        },
        "id": "vKWoLL_0kSqZ",
        "outputId": "9e585e44-ce80-47ac-963c-154b58e5923c"
      },
      "source": [
        "open"
      ],
      "execution_count": null,
      "outputs": [
        {
          "output_type": "execute_result",
          "data": {
            "text/plain": [
              "[[4, 1]]"
            ]
          },
          "metadata": {
            "tags": []
          },
          "execution_count": 12
        }
      ]
    },
    {
      "cell_type": "code",
      "metadata": {
        "colab": {
          "base_uri": "https://localhost:8080/"
        },
        "id": "uSVymXwqkw-f",
        "outputId": "53bde80b-c41d-4a21-cc79-9cff2428bf66"
      },
      "source": [
        "obstacle_Coordinates"
      ],
      "execution_count": null,
      "outputs": [
        {
          "output_type": "execute_result",
          "data": {
            "text/plain": [
              "[(1, 0), (2, 0), (3, 0), (2, 1), (2, 4)]"
            ]
          },
          "metadata": {
            "tags": []
          },
          "execution_count": 13
        }
      ]
    },
    {
      "cell_type": "markdown",
      "metadata": {
        "id": "4NsBiOBk4NyG"
      },
      "source": [
        "The next block of code contains the actual working of the algorithm.\n",
        "\n",
        "Grid cells that are directly reachable from the current cell and are not obstacles are updated with new minimum distances and are added to the \"open\" list so that cells directly connected to them can be explored the next.\n",
        "\n",
        "The cell with the minimum value for distance is explored next."
      ]
    },
    {
      "cell_type": "code",
      "metadata": {
        "id": "o2Go0tVzdibq"
      },
      "source": [
        "while (not(next_goal)):\n",
        "  for i in [-1,0,1]:\n",
        "    for j in [-1,0,1]:\n",
        "       # check if cell_address is inside environment and address does not correspond to a obstacle\n",
        "      if #code here. Check 1)current_cell[0]+i,current_cell[1]+j shouldn't be an obstacle, 2)Should be in grid range\n",
        "        \n",
        "        if distances[current_cell[0]+i,current_cell[1]+j]>distances[current_cell[0],current_cell[1]]+np.power(i**2+j**2,0.5):\n",
        "          #set distances[current_cell[0]+i,current_cell[1]+j] to distances[current_cell[0],current_cell[1]]+np.power(i**2+j**2,0.5)\n",
        "          #add [current_cell[0]+i,current_cell[1]+j] to the open list\n",
        "          #set previous node of [current_cell[0]+i,current_cell[1]+j] to [current_cell[0],current_cell[1]]\n",
        "          \n",
        "\n",
        "        if (current_cell[0]+i==0 and current_cell[1]+j==0):\n",
        "          next_goal = True\n",
        "  open.remove(current_cell)\n",
        "  closed.append(current_cell)\n",
        "  min=float('inf')\n",
        "  min_id=open[0]\n",
        "  for node in open:\n",
        "    temp=distances[node[0],node[1]]\n",
        "    if min>temp:\n",
        "      min=temp\n",
        "      min_id=node\n",
        "  current_cell=min_id\n",
        "\n"
      ],
      "execution_count": null,
      "outputs": []
    },
    {
      "cell_type": "markdown",
      "metadata": {
        "id": "tHvI6DC74xwO"
      },
      "source": [
        "List of open cells at the end of Dijkstra(When goal (0,0) is reached and thus added to \"open\")"
      ]
    },
    {
      "cell_type": "code",
      "metadata": {
        "colab": {
          "base_uri": "https://localhost:8080/"
        },
        "id": "pBadAl5jvmTe",
        "outputId": "d1c7f061-93b9-47e7-f155-be99259d3d8e"
      },
      "source": [
        "open"
      ],
      "execution_count": null,
      "outputs": [
        {
          "output_type": "execute_result",
          "data": {
            "text/plain": [
              "[[1, 3], [1, 4], [0, 1], [0, 2], [0, 3], [0, 0]]"
            ]
          },
          "metadata": {
            "tags": []
          },
          "execution_count": 15
        }
      ]
    },
    {
      "cell_type": "markdown",
      "metadata": {
        "id": "iM7dCpyP45_F"
      },
      "source": [
        "Printing the shortest path by making use of the \"prev\" dictionary.\n",
        "\n",
        "Recall that this dictionary stored the co-ordinates of the cell that was explored directly before the given cell in the shortest path to that cell."
      ]
    },
    {
      "cell_type": "code",
      "metadata": {
        "colab": {
          "base_uri": "https://localhost:8080/"
        },
        "id": "2AOrMBqio3nL",
        "outputId": "5aeec298-9926-47a1-8510-d16c8c3c8c62"
      },
      "source": [
        "#we now have the previous node for the goal, the previous node for that node, the previous node for that node and so on.\n",
        "#We will now print the previous node of each node starting from the end node until the previous node is the start node\n",
        "temp_node=[0,0] #end node\n",
        "start=[4,1]\n",
        "path=[temp_node]\n",
        "#your code here\n",
        "\n",
        "\n",
        "\n",
        "# while(True):\n",
        "#   path.append(prev[temp_node[0],temp_node[1]])\n",
        "#   temp_node=prev[temp_node[0],temp_node[1]]\n",
        "#   if temp_node==start:\n",
        "#     break\n",
        "# path"
      ],
      "execution_count": null,
      "outputs": [
        {
          "output_type": "execute_result",
          "data": {
            "text/plain": [
              "[[0, 0], [1, 1], [2, 2], [3, 1], [4, 1]]"
            ]
          },
          "metadata": {
            "tags": []
          },
          "execution_count": 16
        }
      ]
    },
    {
      "cell_type": "markdown",
      "metadata": {
        "id": "EO6VwpLY5LIt"
      },
      "source": [
        "Plotting the final shortest path from START to END"
      ]
    },
    {
      "cell_type": "code",
      "metadata": {
        "colab": {
          "base_uri": "https://localhost:8080/",
          "height": 297
        },
        "id": "690cUHafCYVM",
        "outputId": "68e2c38e-f112-4894-8ac1-cfcd2d424154"
      },
      "source": [
        "fig, ax = plt.subplots()\n",
        "im = ax.imshow(map_env,cmap='Greys')\n",
        "\n",
        "# code here\n",
        "path = np.array(path)\n",
        "x = path[:,0]\n",
        "y = path[:,1]\n",
        "\n",
        "plt.plot(x, y, color='green', linewidth = 3, marker='o', markerfacecolor='blue', markersize=12)\n",
        "\n",
        "text = ax.text(4, 1, 'START',ha=\"center\", va=\"center\")\n",
        "text = ax.text(0, 0, 'GOAL',ha=\"center\", va=\"center\")\n",
        "\n",
        "fig.tight_layout()\n",
        "\n",
        "plt.show()"
      ],
      "execution_count": null,
      "outputs": [
        {
          "output_type": "display_data",
          "data": {
            "image/png": "[encoded data removed]",
            "text/plain": [
              "<Figure size 432x288 with 1 Axes>"
            ]
          },
          "metadata": {
            "tags": [],
            "needs_background": "light"
          }
        }
      ]
    },
    {
      "cell_type": "code",
      "metadata": {
        "id": "CRPQGNWOQmAc"
      },
      "source": [
        "#((current_cell[0]+i,current_cell[1]+j) not in obstacle_Coordinates and (current_cell[0]+i >= 0) and (current_cell[0]+i <= 4) and (current_cell[1]+j >= 0) and (current_cell[1]+j <= 4)):"
      ],
      "execution_count": null,
      "outputs": []
    }
  ]
}