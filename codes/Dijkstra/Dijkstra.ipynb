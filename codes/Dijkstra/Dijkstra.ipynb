{
  "nbformat": 4,
  "nbformat_minor": 0,
  "metadata": {
    "colab": {
      "name": "Dijkstra.ipynb",
      "provenance": [],
      "collapsed_sections": []
    },
    "kernelspec": {
      "name": "python3",
      "display_name": "Python 3"
    }
  },
  "cells": [
    {
      "cell_type": "markdown",
      "metadata": {
        "id": "-nijZUFVocXf"
      },
      "source": [
        "**Dijkstra's Algorithm**"
      ]
    },
    {
      "cell_type": "code",
      "metadata": {
        "id": "0JWvDTrkgp55"
      },
      "source": [
        "import matplotlib.pyplot as plt\n",
        "from matplotlib import colors\n",
        "import numpy as np"
      ],
      "execution_count": null,
      "outputs": []
    },
    {
      "cell_type": "markdown",
      "metadata": {
        "id": "yFEMflZb19I3"
      },
      "source": [
        "In the next cell, we **intitialise the map** of our environment. Obstacles are coloured **black** and the START and END nodes are coloured **grey**"
      ]
    },
    {
      "cell_type": "code",
      "metadata": {
        "colab": {
          "base_uri": "https://localhost:8080/",
          "height": 297
        },
        "id": "1kSAUZUEg7zJ",
        "outputId": "34d88acd-1eca-4d74-e11f-574e61931672"
      },
      "source": [
        "map_env = np.array([[0.5, 1.0, 1.0, 1.0, 0.0],\n",
        "                    [0.0, 0.0, 1.0, 0.0, 0.5],\n",
        "                    [0.0, 0.0, 0.0, 0.0, 0.0],\n",
        "                    [0.0, 0.0, 0.0, 0.0, 0.0],\n",
        "                    [0.0, 0.0, 1.0, 0.0, 0.0]])\n",
        "\n",
        "fig, ax = plt.subplots()\n",
        "im = ax.imshow(map_env,cmap='Greys')\n",
        "\n",
        "text = ax.text(4, 1, 'START',ha=\"center\", va=\"center\")\n",
        "text = ax.text(0, 0, 'GOAL',ha=\"center\", va=\"center\")\n",
        "\n",
        "fig.tight_layout()\n",
        "\n",
        "plt.show()"
      ],
      "execution_count": null,
      "outputs": [
        {
          "output_type": "display_data",
          "data": {
            "image/png": "[encoded data removed]",
            "text/plain": [
              "<Figure size 432x288 with 1 Axes>"
            ]
          },
          "metadata": {
            "tags": [],
            "needs_background": "light"
          }
        }
      ]
    },
    {
      "cell_type": "markdown",
      "metadata": {
        "id": "O_gz5lKn2S21"
      },
      "source": [
        "We now create 2 empty dictionaries which will be used to store\n",
        " \n",
        "1)the distances of each grid cell from the START node\n",
        "\n",
        "2)the cell that directly leads to this grid cell if one were to reach it taking the shortest possible path \n",
        "respectively"
      ]
    },
    {
      "cell_type": "code",
      "metadata": {
        "id": "wrFvVhDocTkq"
      },
      "source": [
        "distances={}\n",
        "prev={}"
      ],
      "execution_count": null,
      "outputs": []
    },
    {
      "cell_type": "markdown",
      "metadata": {
        "id": "0uiJpUGu2yWn"
      },
      "source": [
        "The distance of each grid cell from the START node is set to infinity initially while its \"previous node\" is set to None"
      ]
    },
    {
      "cell_type": "code",
      "metadata": {
        "id": "OPEcSIr_ci5b"
      },
      "source": [
        "for i in range(0,5):\n",
        "  for j in range(0,5):\n",
        "    distances[i,j]=float('inf')\n",
        "    prev[i,j]=None"
      ],
      "execution_count": null,
      "outputs": []
    },
    {
      "cell_type": "markdown",
      "metadata": {
        "id": "DWqeIlbF3Ct6"
      },
      "source": [
        "Setting the distance of the starting node from itself to 0"
      ]
    },
    {
      "cell_type": "code",
      "metadata": {
        "id": "6FBJb80ej_XU"
      },
      "source": [
        "distances[4,1]=0"
      ],
      "execution_count": null,
      "outputs": []
    },
    {
      "cell_type": "markdown",
      "metadata": {
        "id": "DqjLc6F93INK"
      },
      "source": [
        "We now create two lists:\n",
        "\n",
        "1)**Open**: This is used to keep track of the nodes that are currently reachable but have not been explored\n",
        "\n",
        "2)**Closed**: This is used to keep track of nodes that have already been expored.\n",
        "\n",
        "***Example***:\n",
        "\n",
        "After our first iteration in the Dijkstra Algorithm, the \"START\" node wll be marked as \"Closed\", while the cells (3,1), (4,0), (4,2)and (3,2) will be marked \"open\" to exploration."
      ]
    },
    {
      "cell_type": "code",
      "metadata": {
        "id": "3jwvLLW9WBhr"
      },
      "source": [
        "open=[] #set of nodes to be evaluated\n",
        "closed=[] #set of nodes that have been evaluated"
      ],
      "execution_count": null,
      "outputs": []
    },
    {
      "cell_type": "code",
      "metadata": {
        "id": "0HaRNrclc8jx"
      },
      "source": [
        "open.append([4,1]) #add starting node to 'open' list"
      ],
      "execution_count": null,
      "outputs": []
    },
    {
      "cell_type": "code",
      "metadata": {
        "colab": {
          "base_uri": "https://localhost:8080/"
        },
        "id": "sSyNBlelAy94",
        "outputId": "46d9503d-f4a3-469f-a218-5e34d201a74c"
      },
      "source": [
        "# get position of obstacles\n",
        "# code here\n",
        "\n",
        "obstacles = np.where(map_env == 1.0)\n",
        "obstacle_Coordinates = list(zip(obstacles[1], obstacles[0]))\n",
        "print(obstacle_Coordinates)\n",
        "\n"
      ],
      "execution_count": null,
      "outputs": [
        {
          "output_type": "stream",
          "text": [
            "[(1, 0), (2, 0), (3, 0), (2, 1), (1, 2), (2, 2), (2, 4)]\n"
          ],
          "name": "stdout"
        }
      ]
    },
    {
      "cell_type": "code",
      "metadata": {
        "id": "mZAKe_phBRZs"
      },
      "source": [
        "def plot_steps(current_cell,f_min):\n",
        "    print('plotting')\n",
        "    fig, ax = plt.subplots()\n",
        "    im = ax.imshow(map_env,cmap='Greys')\n",
        "    # code here\n",
        "    text = ax.text(current_cell[0],current_cell[1],round(f_min,2),ha=\"center\", va=\"center\")\n",
        "    \n",
        "    fig.tight_layout()\n",
        "    plt.show()"
      ],
      "execution_count": null,
      "outputs": []
    },
    {
      "cell_type": "code",
      "metadata": {
        "id": "h3C5uqetjYpv"
      },
      "source": [
        "next_goal=False\n",
        "current_cell=[4,1]"
      ],
      "execution_count": null,
      "outputs": []
    },
    {
      "cell_type": "code",
      "metadata": {
        "colab": {
          "base_uri": "https://localhost:8080/"
        },
        "id": "P7zX1hDZkQ7P",
        "outputId": "970b2720-c91b-4299-f584-d4ecb328e00b"
      },
      "source": [
        "current_cell"
      ],
      "execution_count": null,
      "outputs": [
        {
          "output_type": "execute_result",
          "data": {
            "text/plain": [
              "[4, 1]"
            ]
          },
          "metadata": {
            "tags": []
          },
          "execution_count": 43
        }
      ]
    },
    {
      "cell_type": "code",
      "metadata": {
        "colab": {
          "base_uri": "https://localhost:8080/"
        },
        "id": "vKWoLL_0kSqZ",
        "outputId": "323b4c6a-fda6-4f78-a4f1-1c666aa1e5bc"
      },
      "source": [
        "open"
      ],
      "execution_count": null,
      "outputs": [
        {
          "output_type": "execute_result",
          "data": {
            "text/plain": [
              "[[4, 1]]"
            ]
          },
          "metadata": {
            "tags": []
          },
          "execution_count": 44
        }
      ]
    },
    {
      "cell_type": "code",
      "metadata": {
        "colab": {
          "base_uri": "https://localhost:8080/"
        },
        "id": "uSVymXwqkw-f",
        "outputId": "e2262623-f0fd-407d-ae6e-2b4996fcdec5"
      },
      "source": [
        "obstacle_Coordinates"
      ],
      "execution_count": null,
      "outputs": [
        {
          "output_type": "execute_result",
          "data": {
            "text/plain": [
              "[(1, 0), (2, 0), (3, 0), (2, 1), (1, 2), (2, 2), (2, 4)]"
            ]
          },
          "metadata": {
            "tags": []
          },
          "execution_count": 45
        }
      ]
    },
    {
      "cell_type": "markdown",
      "metadata": {
        "id": "4NsBiOBk4NyG"
      },
      "source": [
        "The next block of code contains the actual working of the algorithm.\n",
        "\n",
        "Grid cells that are directly reachable from the current cell and are not obstacles are updated with new minimum distances and are added to the \"open\" list so that cells directly connected to them can be explored the next.\n",
        "\n",
        "The cell with the minimum value for distance is explored next."
      ]
    },
    {
      "cell_type": "code",
      "metadata": {
        "id": "o2Go0tVzdibq"
      },
      "source": [
        "while (not(next_goal)):\n",
        "  for i in [-1,0,1]:\n",
        "    for j in [-1,0,1]:\n",
        "       # check if cell_address is inside environment and address does not correspond to a obstacle\n",
        "      if ((current_cell[0]+i,current_cell[1]+j) not in obstacle_Coordinates and (current_cell[0]+i >= 0) and (current_cell[0]+i <= 4) and (current_cell[1]+j >= 0) and (current_cell[1]+j <= 4)):\n",
        "        \n",
        "        if distances[current_cell[0]+i,current_cell[1]+j]>distances[current_cell[0],current_cell[1]]+np.power(i**2+j**2,0.5):\n",
        "          \n",
        "          distances[current_cell[0]+i,current_cell[1]+j]=distances[current_cell[0],current_cell[1]]+np.power(i**2+j**2,0.5)\n",
        "          prev[current_cell[0]+i,current_cell[1]+j]=current_cell\n",
        "          open.append([current_cell[0]+i,current_cell[1]+j])\n",
        "          \n",
        "\n",
        "        if (current_cell[0]+i==0 and current_cell[1]+j==0):\n",
        "          next_goal = True\n",
        "  open.remove(current_cell)\n",
        "  closed.append(current_cell)\n",
        "  min=float('inf')\n",
        "  min_id=open[0]\n",
        "  for node in open:\n",
        "    temp=distances[node[0],node[1]]\n",
        "    if min>temp:\n",
        "      min=temp\n",
        "      min_id=node\n",
        "  current_cell=min_id\n",
        "\n"
      ],
      "execution_count": null,
      "outputs": []
    },
    {
      "cell_type": "markdown",
      "metadata": {
        "id": "tHvI6DC74xwO"
      },
      "source": [
        "List of open cells at the end of Dijkstra(When goal (0,0) is reached and thus added to \"open\")"
      ]
    },
    {
      "cell_type": "code",
      "metadata": {
        "colab": {
          "base_uri": "https://localhost:8080/"
        },
        "id": "pBadAl5jvmTe",
        "outputId": "1a8d9578-d8ef-4c3e-c4db-cb380ff8760e"
      },
      "source": [
        "open"
      ],
      "execution_count": null,
      "outputs": [
        {
          "output_type": "execute_result",
          "data": {
            "text/plain": [
              "[[1, 1], [0, 0]]"
            ]
          },
          "metadata": {
            "tags": []
          },
          "execution_count": 47
        }
      ]
    },
    {
      "cell_type": "markdown",
      "metadata": {
        "id": "iM7dCpyP45_F"
      },
      "source": [
        "Printing the shortest path by making use of the \"prev\" dictionary.\n",
        "\n",
        "Recall that this dictionary stored the co-ordinates of the cell that was explored directly before the given cell in the shortest path to that cell."
      ]
    },
    {
      "cell_type": "code",
      "metadata": {
        "colab": {
          "base_uri": "https://localhost:8080/"
        },
        "id": "2AOrMBqio3nL",
        "outputId": "b04fef1f-e5d6-4b78-f3c4-5a10ef6361f7"
      },
      "source": [
        "temp_node=[0,0] #end node\n",
        "start=[4,1]\n",
        "path=[temp_node]\n",
        "while(True):\n",
        "  path.append(prev[temp_node[0],temp_node[1]])\n",
        "  temp_node=prev[temp_node[0],temp_node[1]]\n",
        "  if temp_node==start:\n",
        "    break\n",
        "path"
      ],
      "execution_count": null,
      "outputs": [
        {
          "output_type": "execute_result",
          "data": {
            "text/plain": [
              "[[0, 0], [0, 1], [0, 2], [1, 3], [2, 3], [3, 2], [4, 1]]"
            ]
          },
          "metadata": {
            "tags": []
          },
          "execution_count": 48
        }
      ]
    },
    {
      "cell_type": "markdown",
      "metadata": {
        "id": "EO6VwpLY5LIt"
      },
      "source": [
        "Plotting the final shortest path from START to END"
      ]
    },
    {
      "cell_type": "code",
      "metadata": {
        "colab": {
          "base_uri": "https://localhost:8080/",
          "height": 297
        },
        "id": "690cUHafCYVM",
        "outputId": "5d1dfca5-234d-4469-871a-abf00f9323f5"
      },
      "source": [
        "fig, ax = plt.subplots()\n",
        "im = ax.imshow(map_env,cmap='Greys')\n",
        "\n",
        "# code here\n",
        "path = np.array(path)\n",
        "x = path[:,0]\n",
        "y = path[:,1]\n",
        "\n",
        "plt.plot(x, y, color='green', linewidth = 3, marker='o', markerfacecolor='blue', markersize=12)\n",
        "\n",
        "text = ax.text(4, 1, 'START',ha=\"center\", va=\"center\")\n",
        "text = ax.text(0, 0, 'GOAL',ha=\"center\", va=\"center\")\n",
        "\n",
        "fig.tight_layout()\n",
        "\n",
        "plt.show()"
      ],
      "execution_count": null,
      "outputs": [
        {
          "output_type": "display_data",
          "data": {
            "image/png": "[encoded data removed]",
            "text/plain": [
              "<Figure size 432x288 with 1 Axes>"
            ]
          },
          "metadata": {
            "tags": [],
            "needs_background": "light"
          }
        }
      ]
    }
  ]
}